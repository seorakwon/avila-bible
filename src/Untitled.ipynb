{
 "cells": [
  {
   "cell_type": "code",
   "execution_count": 50,
   "metadata": {},
   "outputs": [],
   "source": [
    "import pandas as pd\n",
    "import numpy as np\n",
    "import matplotlib.pyplot as plt\n",
    "import seaborn as sns\n",
    "%matplotlib inline\n",
    "import seaborn as sns\n",
    "from sklearn import datasets, svm, metrics\n",
    "from sklearn.model_selection import train_test_split"
   ]
  },
  {
   "cell_type": "code",
   "execution_count": 51,
   "metadata": {},
   "outputs": [],
   "source": [
    "training = pd.read_csv('../input/training_dataset.csv')\n",
    "test = pd.read_csv('../input/test_dataset.csv')\n"
   ]
  },
  {
   "cell_type": "code",
   "execution_count": 52,
   "metadata": {},
   "outputs": [
    {
     "data": {
      "text/html": [
       "<div>\n",
       "<style scoped>\n",
       "    .dataframe tbody tr th:only-of-type {\n",
       "        vertical-align: middle;\n",
       "    }\n",
       "\n",
       "    .dataframe tbody tr th {\n",
       "        vertical-align: top;\n",
       "    }\n",
       "\n",
       "    .dataframe thead th {\n",
       "        text-align: right;\n",
       "    }\n",
       "</style>\n",
       "<table border=\"1\" class=\"dataframe\">\n",
       "  <thead>\n",
       "    <tr style=\"text-align: right;\">\n",
       "      <th></th>\n",
       "      <th>id</th>\n",
       "      <th>F1</th>\n",
       "      <th>F2</th>\n",
       "      <th>F3</th>\n",
       "      <th>F4</th>\n",
       "      <th>F5</th>\n",
       "      <th>F6</th>\n",
       "      <th>F7</th>\n",
       "      <th>F8</th>\n",
       "      <th>F9</th>\n",
       "      <th>F10</th>\n",
       "      <th>scribe</th>\n",
       "    </tr>\n",
       "  </thead>\n",
       "  <tbody>\n",
       "    <tr>\n",
       "      <th>0</th>\n",
       "      <td>0</td>\n",
       "      <td>-0.091897</td>\n",
       "      <td>0.297600</td>\n",
       "      <td>0.079145</td>\n",
       "      <td>0.196496</td>\n",
       "      <td>0.261718</td>\n",
       "      <td>1.269960</td>\n",
       "      <td>0.446679</td>\n",
       "      <td>-0.751707</td>\n",
       "      <td>0.001721</td>\n",
       "      <td>0.998901</td>\n",
       "      <td>Philippus</td>\n",
       "    </tr>\n",
       "    <tr>\n",
       "      <th>1</th>\n",
       "      <td>1</td>\n",
       "      <td>-0.091897</td>\n",
       "      <td>0.226939</td>\n",
       "      <td>0.267634</td>\n",
       "      <td>0.024091</td>\n",
       "      <td>0.261718</td>\n",
       "      <td>-0.806282</td>\n",
       "      <td>0.597681</td>\n",
       "      <td>-0.601277</td>\n",
       "      <td>0.126447</td>\n",
       "      <td>-0.909619</td>\n",
       "      <td>Paithonius</td>\n",
       "    </tr>\n",
       "    <tr>\n",
       "      <th>2</th>\n",
       "      <td>2</td>\n",
       "      <td>0.167323</td>\n",
       "      <td>0.313302</td>\n",
       "      <td>0.168055</td>\n",
       "      <td>-0.383198</td>\n",
       "      <td>0.261718</td>\n",
       "      <td>0.190314</td>\n",
       "      <td>0.824183</td>\n",
       "      <td>0.558250</td>\n",
       "      <td>-0.247731</td>\n",
       "      <td>-0.148073</td>\n",
       "      <td>Marcus</td>\n",
       "    </tr>\n",
       "    <tr>\n",
       "      <th>3</th>\n",
       "      <td>3</td>\n",
       "      <td>-0.017834</td>\n",
       "      <td>-0.228430</td>\n",
       "      <td>0.370770</td>\n",
       "      <td>1.293671</td>\n",
       "      <td>0.172340</td>\n",
       "      <td>0.896237</td>\n",
       "      <td>0.182426</td>\n",
       "      <td>0.416867</td>\n",
       "      <td>1.373706</td>\n",
       "      <td>0.868284</td>\n",
       "      <td>Noaelius</td>\n",
       "    </tr>\n",
       "    <tr>\n",
       "      <th>4</th>\n",
       "      <td>4</td>\n",
       "      <td>0.043885</td>\n",
       "      <td>0.407516</td>\n",
       "      <td>-0.120014</td>\n",
       "      <td>0.281743</td>\n",
       "      <td>0.261718</td>\n",
       "      <td>-0.183409</td>\n",
       "      <td>0.106925</td>\n",
       "      <td>0.142896</td>\n",
       "      <td>0.531806</td>\n",
       "      <td>-0.101311</td>\n",
       "      <td>Marcus</td>\n",
       "    </tr>\n",
       "  </tbody>\n",
       "</table>\n",
       "</div>"
      ],
      "text/plain": [
       "   id        F1        F2        F3        F4        F5        F6        F7  \\\n",
       "0   0 -0.091897  0.297600  0.079145  0.196496  0.261718  1.269960  0.446679   \n",
       "1   1 -0.091897  0.226939  0.267634  0.024091  0.261718 -0.806282  0.597681   \n",
       "2   2  0.167323  0.313302  0.168055 -0.383198  0.261718  0.190314  0.824183   \n",
       "3   3 -0.017834 -0.228430  0.370770  1.293671  0.172340  0.896237  0.182426   \n",
       "4   4  0.043885  0.407516 -0.120014  0.281743  0.261718 -0.183409  0.106925   \n",
       "\n",
       "         F8        F9       F10      scribe  \n",
       "0 -0.751707  0.001721  0.998901   Philippus  \n",
       "1 -0.601277  0.126447 -0.909619  Paithonius  \n",
       "2  0.558250 -0.247731 -0.148073      Marcus  \n",
       "3  0.416867  1.373706  0.868284    Noaelius  \n",
       "4  0.142896  0.531806 -0.101311      Marcus  "
      ]
     },
     "execution_count": 52,
     "metadata": {},
     "output_type": "execute_result"
    }
   ],
   "source": [
    "training.head()"
   ]
  },
  {
   "cell_type": "code",
   "execution_count": 53,
   "metadata": {},
   "outputs": [
    {
     "data": {
      "text/html": [
       "<div>\n",
       "<style scoped>\n",
       "    .dataframe tbody tr th:only-of-type {\n",
       "        vertical-align: middle;\n",
       "    }\n",
       "\n",
       "    .dataframe tbody tr th {\n",
       "        vertical-align: top;\n",
       "    }\n",
       "\n",
       "    .dataframe thead th {\n",
       "        text-align: right;\n",
       "    }\n",
       "</style>\n",
       "<table border=\"1\" class=\"dataframe\">\n",
       "  <thead>\n",
       "    <tr style=\"text-align: right;\">\n",
       "      <th></th>\n",
       "      <th>id</th>\n",
       "      <th>F1</th>\n",
       "      <th>F2</th>\n",
       "      <th>F3</th>\n",
       "      <th>F4</th>\n",
       "      <th>F5</th>\n",
       "      <th>F6</th>\n",
       "      <th>F7</th>\n",
       "      <th>F8</th>\n",
       "      <th>F9</th>\n",
       "      <th>F10</th>\n",
       "    </tr>\n",
       "  </thead>\n",
       "  <tbody>\n",
       "    <tr>\n",
       "      <th>0</th>\n",
       "      <td>0</td>\n",
       "      <td>-0.042522</td>\n",
       "      <td>0.007106</td>\n",
       "      <td>0.264078</td>\n",
       "      <td>-0.162546</td>\n",
       "      <td>0.172340</td>\n",
       "      <td>-1.055431</td>\n",
       "      <td>0.106925</td>\n",
       "      <td>0.680858</td>\n",
       "      <td>0.781258</td>\n",
       "      <td>-0.901193</td>\n",
       "    </tr>\n",
       "    <tr>\n",
       "      <th>1</th>\n",
       "      <td>1</td>\n",
       "      <td>0.315450</td>\n",
       "      <td>0.540986</td>\n",
       "      <td>0.029355</td>\n",
       "      <td>-0.395163</td>\n",
       "      <td>0.261718</td>\n",
       "      <td>-1.055431</td>\n",
       "      <td>0.182426</td>\n",
       "      <td>-0.643408</td>\n",
       "      <td>0.095265</td>\n",
       "      <td>-0.925038</td>\n",
       "    </tr>\n",
       "    <tr>\n",
       "      <th>2</th>\n",
       "      <td>2</td>\n",
       "      <td>-0.351118</td>\n",
       "      <td>-0.244132</td>\n",
       "      <td>0.594823</td>\n",
       "      <td>1.592678</td>\n",
       "      <td>0.797987</td>\n",
       "      <td>0.397939</td>\n",
       "      <td>-1.025587</td>\n",
       "      <td>1.157371</td>\n",
       "      <td>1.591976</td>\n",
       "      <td>1.278013</td>\n",
       "    </tr>\n",
       "    <tr>\n",
       "      <th>3</th>\n",
       "      <td>3</td>\n",
       "      <td>0.327793</td>\n",
       "      <td>0.336855</td>\n",
       "      <td>-0.020434</td>\n",
       "      <td>1.086893</td>\n",
       "      <td>0.261718</td>\n",
       "      <td>-0.307984</td>\n",
       "      <td>0.220177</td>\n",
       "      <td>0.449873</td>\n",
       "      <td>-0.528364</td>\n",
       "      <td>-0.276773</td>\n",
       "    </tr>\n",
       "    <tr>\n",
       "      <th>4</th>\n",
       "      <td>4</td>\n",
       "      <td>0.019197</td>\n",
       "      <td>-0.087108</td>\n",
       "      <td>0.384996</td>\n",
       "      <td>0.794958</td>\n",
       "      <td>0.261718</td>\n",
       "      <td>0.314889</td>\n",
       "      <td>-0.044076</td>\n",
       "      <td>-1.067421</td>\n",
       "      <td>-0.715453</td>\n",
       "      <td>0.440809</td>\n",
       "    </tr>\n",
       "  </tbody>\n",
       "</table>\n",
       "</div>"
      ],
      "text/plain": [
       "   id        F1        F2        F3        F4        F5        F6        F7  \\\n",
       "0   0 -0.042522  0.007106  0.264078 -0.162546  0.172340 -1.055431  0.106925   \n",
       "1   1  0.315450  0.540986  0.029355 -0.395163  0.261718 -1.055431  0.182426   \n",
       "2   2 -0.351118 -0.244132  0.594823  1.592678  0.797987  0.397939 -1.025587   \n",
       "3   3  0.327793  0.336855 -0.020434  1.086893  0.261718 -0.307984  0.220177   \n",
       "4   4  0.019197 -0.087108  0.384996  0.794958  0.261718  0.314889 -0.044076   \n",
       "\n",
       "         F8        F9       F10  \n",
       "0  0.680858  0.781258 -0.901193  \n",
       "1 -0.643408  0.095265 -0.925038  \n",
       "2  1.157371  1.591976  1.278013  \n",
       "3  0.449873 -0.528364 -0.276773  \n",
       "4 -1.067421 -0.715453  0.440809  "
      ]
     },
     "execution_count": 53,
     "metadata": {},
     "output_type": "execute_result"
    }
   ],
   "source": [
    "test.head()"
   ]
  },
  {
   "cell_type": "code",
   "execution_count": 54,
   "metadata": {},
   "outputs": [
    {
     "data": {
      "text/plain": [
       "(12017, 12)"
      ]
     },
     "execution_count": 54,
     "metadata": {},
     "output_type": "execute_result"
    }
   ],
   "source": [
    "training.shape"
   ]
  },
  {
   "cell_type": "code",
   "execution_count": 55,
   "metadata": {},
   "outputs": [
    {
     "data": {
      "text/plain": [
       "id          int64\n",
       "F1        float64\n",
       "F2        float64\n",
       "F3        float64\n",
       "F4        float64\n",
       "F5        float64\n",
       "F6        float64\n",
       "F7        float64\n",
       "F8        float64\n",
       "F9        float64\n",
       "F10       float64\n",
       "scribe     object\n",
       "dtype: object"
      ]
     },
     "execution_count": 55,
     "metadata": {},
     "output_type": "execute_result"
    }
   ],
   "source": [
    "training.dtypes"
   ]
  },
  {
   "cell_type": "code",
   "execution_count": 56,
   "metadata": {},
   "outputs": [
    {
     "data": {
      "text/plain": [
       "(8012, 11)"
      ]
     },
     "execution_count": 56,
     "metadata": {},
     "output_type": "execute_result"
    }
   ],
   "source": [
    "test.shape"
   ]
  },
  {
   "cell_type": "code",
   "execution_count": 57,
   "metadata": {},
   "outputs": [
    {
     "data": {
      "text/plain": [
       "id        0\n",
       "F1        0\n",
       "F2        0\n",
       "F3        0\n",
       "F4        0\n",
       "F5        0\n",
       "F6        0\n",
       "F7        0\n",
       "F8        0\n",
       "F9        0\n",
       "F10       0\n",
       "scribe    0\n",
       "dtype: int64"
      ]
     },
     "execution_count": 57,
     "metadata": {},
     "output_type": "execute_result"
    }
   ],
   "source": [
    "training.isnull().sum()"
   ]
  },
  {
   "cell_type": "code",
   "execution_count": 58,
   "metadata": {},
   "outputs": [
    {
     "data": {
      "image/png": "[encoded data removed]",
      "text/plain": [
       "<matplotlib.figure.Figure at 0x7f038f621b38>"
      ]
     },
     "metadata": {
      "needs_background": "light"
     },
     "output_type": "display_data"
    }
   ],
   "source": [
    "columns = ['F1', 'F2', 'F3', 'F4', 'F5', 'F6', 'F7', 'F8', 'F9', 'F10']\n",
    "\n",
    "corrMatrix = training[columns].corr()\n",
    "heatmap = sns.heatmap(corrMatrix)"
   ]
  },
  {
   "cell_type": "code",
   "execution_count": 59,
   "metadata": {},
   "outputs": [],
   "source": [
    "training.drop(['id'], inplace=True, axis=1)"
   ]
  },
  {
   "cell_type": "code",
   "execution_count": 60,
   "metadata": {},
   "outputs": [
    {
     "data": {
      "text/html": [
       "<div>\n",
       "<style scoped>\n",
       "    .dataframe tbody tr th:only-of-type {\n",
       "        vertical-align: middle;\n",
       "    }\n",
       "\n",
       "    .dataframe tbody tr th {\n",
       "        vertical-align: top;\n",
       "    }\n",
       "\n",
       "    .dataframe thead th {\n",
       "        text-align: right;\n",
       "    }\n",
       "</style>\n",
       "<table border=\"1\" class=\"dataframe\">\n",
       "  <thead>\n",
       "    <tr style=\"text-align: right;\">\n",
       "      <th></th>\n",
       "      <th>F1</th>\n",
       "      <th>F2</th>\n",
       "      <th>F3</th>\n",
       "      <th>F4</th>\n",
       "      <th>F5</th>\n",
       "      <th>F6</th>\n",
       "      <th>F7</th>\n",
       "      <th>F8</th>\n",
       "      <th>F9</th>\n",
       "      <th>F10</th>\n",
       "      <th>scribe</th>\n",
       "    </tr>\n",
       "  </thead>\n",
       "  <tbody>\n",
       "    <tr>\n",
       "      <th>0</th>\n",
       "      <td>-0.091897</td>\n",
       "      <td>0.297600</td>\n",
       "      <td>0.079145</td>\n",
       "      <td>0.196496</td>\n",
       "      <td>0.261718</td>\n",
       "      <td>1.269960</td>\n",
       "      <td>0.446679</td>\n",
       "      <td>-0.751707</td>\n",
       "      <td>0.001721</td>\n",
       "      <td>0.998901</td>\n",
       "      <td>Philippus</td>\n",
       "    </tr>\n",
       "    <tr>\n",
       "      <th>1</th>\n",
       "      <td>-0.091897</td>\n",
       "      <td>0.226939</td>\n",
       "      <td>0.267634</td>\n",
       "      <td>0.024091</td>\n",
       "      <td>0.261718</td>\n",
       "      <td>-0.806282</td>\n",
       "      <td>0.597681</td>\n",
       "      <td>-0.601277</td>\n",
       "      <td>0.126447</td>\n",
       "      <td>-0.909619</td>\n",
       "      <td>Paithonius</td>\n",
       "    </tr>\n",
       "    <tr>\n",
       "      <th>2</th>\n",
       "      <td>0.167323</td>\n",
       "      <td>0.313302</td>\n",
       "      <td>0.168055</td>\n",
       "      <td>-0.383198</td>\n",
       "      <td>0.261718</td>\n",
       "      <td>0.190314</td>\n",
       "      <td>0.824183</td>\n",
       "      <td>0.558250</td>\n",
       "      <td>-0.247731</td>\n",
       "      <td>-0.148073</td>\n",
       "      <td>Marcus</td>\n",
       "    </tr>\n",
       "    <tr>\n",
       "      <th>3</th>\n",
       "      <td>-0.017834</td>\n",
       "      <td>-0.228430</td>\n",
       "      <td>0.370770</td>\n",
       "      <td>1.293671</td>\n",
       "      <td>0.172340</td>\n",
       "      <td>0.896237</td>\n",
       "      <td>0.182426</td>\n",
       "      <td>0.416867</td>\n",
       "      <td>1.373706</td>\n",
       "      <td>0.868284</td>\n",
       "      <td>Noaelius</td>\n",
       "    </tr>\n",
       "    <tr>\n",
       "      <th>4</th>\n",
       "      <td>0.043885</td>\n",
       "      <td>0.407516</td>\n",
       "      <td>-0.120014</td>\n",
       "      <td>0.281743</td>\n",
       "      <td>0.261718</td>\n",
       "      <td>-0.183409</td>\n",
       "      <td>0.106925</td>\n",
       "      <td>0.142896</td>\n",
       "      <td>0.531806</td>\n",
       "      <td>-0.101311</td>\n",
       "      <td>Marcus</td>\n",
       "    </tr>\n",
       "  </tbody>\n",
       "</table>\n",
       "</div>"
      ],
      "text/plain": [
       "         F1        F2        F3        F4        F5        F6        F7  \\\n",
       "0 -0.091897  0.297600  0.079145  0.196496  0.261718  1.269960  0.446679   \n",
       "1 -0.091897  0.226939  0.267634  0.024091  0.261718 -0.806282  0.597681   \n",
       "2  0.167323  0.313302  0.168055 -0.383198  0.261718  0.190314  0.824183   \n",
       "3 -0.017834 -0.228430  0.370770  1.293671  0.172340  0.896237  0.182426   \n",
       "4  0.043885  0.407516 -0.120014  0.281743  0.261718 -0.183409  0.106925   \n",
       "\n",
       "         F8        F9       F10      scribe  \n",
       "0 -0.751707  0.001721  0.998901   Philippus  \n",
       "1 -0.601277  0.126447 -0.909619  Paithonius  \n",
       "2  0.558250 -0.247731 -0.148073      Marcus  \n",
       "3  0.416867  1.373706  0.868284    Noaelius  \n",
       "4  0.142896  0.531806 -0.101311      Marcus  "
      ]
     },
     "execution_count": 60,
     "metadata": {},
     "output_type": "execute_result"
    }
   ],
   "source": [
    "training.head()"
   ]
  },
  {
   "cell_type": "code",
   "execution_count": 70,
   "metadata": {},
   "outputs": [
    {
     "data": {
      "text/plain": [
       "array(['Philippus', 'Paithonius', 'Marcus', 'Noaelius', 'Begonius',\n",
       "       'Franciscus', 'Ubuntius', 'FerrumEffractarius'], dtype=object)"
      ]
     },
     "execution_count": 70,
     "metadata": {},
     "output_type": "execute_result"
    }
   ],
   "source": [
    "training.scribe.unique()"
   ]
  },
  {
   "cell_type": "code",
   "execution_count": 76,
   "metadata": {},
   "outputs": [],
   "source": [
    "training_dummy = pd.get_dummies(training, drop_first=True)"
   ]
  },
  {
   "cell_type": "code",
   "execution_count": 78,
   "metadata": {},
   "outputs": [
    {
     "data": {
      "text/html": [
       "<div>\n",
       "<style scoped>\n",
       "    .dataframe tbody tr th:only-of-type {\n",
       "        vertical-align: middle;\n",
       "    }\n",
       "\n",
       "    .dataframe tbody tr th {\n",
       "        vertical-align: top;\n",
       "    }\n",
       "\n",
       "    .dataframe thead th {\n",
       "        text-align: right;\n",
       "    }\n",
       "</style>\n",
       "<table border=\"1\" class=\"dataframe\">\n",
       "  <thead>\n",
       "    <tr style=\"text-align: right;\">\n",
       "      <th></th>\n",
       "      <th>F1</th>\n",
       "      <th>F2</th>\n",
       "      <th>F3</th>\n",
       "      <th>F4</th>\n",
       "      <th>F5</th>\n",
       "      <th>F6</th>\n",
       "      <th>F7</th>\n",
       "      <th>F8</th>\n",
       "      <th>F9</th>\n",
       "      <th>F10</th>\n",
       "      <th>scribe_FerrumEffractarius</th>\n",
       "      <th>scribe_Franciscus</th>\n",
       "      <th>scribe_Marcus</th>\n",
       "      <th>scribe_Noaelius</th>\n",
       "      <th>scribe_Paithonius</th>\n",
       "      <th>scribe_Philippus</th>\n",
       "      <th>scribe_Ubuntius</th>\n",
       "    </tr>\n",
       "  </thead>\n",
       "  <tbody>\n",
       "    <tr>\n",
       "      <th>0</th>\n",
       "      <td>-0.091897</td>\n",
       "      <td>0.297600</td>\n",
       "      <td>0.079145</td>\n",
       "      <td>0.196496</td>\n",
       "      <td>0.261718</td>\n",
       "      <td>1.269960</td>\n",
       "      <td>0.446679</td>\n",
       "      <td>-0.751707</td>\n",
       "      <td>0.001721</td>\n",
       "      <td>0.998901</td>\n",
       "      <td>0</td>\n",
       "      <td>0</td>\n",
       "      <td>0</td>\n",
       "      <td>0</td>\n",
       "      <td>0</td>\n",
       "      <td>1</td>\n",
       "      <td>0</td>\n",
       "    </tr>\n",
       "    <tr>\n",
       "      <th>1</th>\n",
       "      <td>-0.091897</td>\n",
       "      <td>0.226939</td>\n",
       "      <td>0.267634</td>\n",
       "      <td>0.024091</td>\n",
       "      <td>0.261718</td>\n",
       "      <td>-0.806282</td>\n",
       "      <td>0.597681</td>\n",
       "      <td>-0.601277</td>\n",
       "      <td>0.126447</td>\n",
       "      <td>-0.909619</td>\n",
       "      <td>0</td>\n",
       "      <td>0</td>\n",
       "      <td>0</td>\n",
       "      <td>0</td>\n",
       "      <td>1</td>\n",
       "      <td>0</td>\n",
       "      <td>0</td>\n",
       "    </tr>\n",
       "    <tr>\n",
       "      <th>2</th>\n",
       "      <td>0.167323</td>\n",
       "      <td>0.313302</td>\n",
       "      <td>0.168055</td>\n",
       "      <td>-0.383198</td>\n",
       "      <td>0.261718</td>\n",
       "      <td>0.190314</td>\n",
       "      <td>0.824183</td>\n",
       "      <td>0.558250</td>\n",
       "      <td>-0.247731</td>\n",
       "      <td>-0.148073</td>\n",
       "      <td>0</td>\n",
       "      <td>0</td>\n",
       "      <td>1</td>\n",
       "      <td>0</td>\n",
       "      <td>0</td>\n",
       "      <td>0</td>\n",
       "      <td>0</td>\n",
       "    </tr>\n",
       "    <tr>\n",
       "      <th>3</th>\n",
       "      <td>-0.017834</td>\n",
       "      <td>-0.228430</td>\n",
       "      <td>0.370770</td>\n",
       "      <td>1.293671</td>\n",
       "      <td>0.172340</td>\n",
       "      <td>0.896237</td>\n",
       "      <td>0.182426</td>\n",
       "      <td>0.416867</td>\n",
       "      <td>1.373706</td>\n",
       "      <td>0.868284</td>\n",
       "      <td>0</td>\n",
       "      <td>0</td>\n",
       "      <td>0</td>\n",
       "      <td>1</td>\n",
       "      <td>0</td>\n",
       "      <td>0</td>\n",
       "      <td>0</td>\n",
       "    </tr>\n",
       "    <tr>\n",
       "      <th>4</th>\n",
       "      <td>0.043885</td>\n",
       "      <td>0.407516</td>\n",
       "      <td>-0.120014</td>\n",
       "      <td>0.281743</td>\n",
       "      <td>0.261718</td>\n",
       "      <td>-0.183409</td>\n",
       "      <td>0.106925</td>\n",
       "      <td>0.142896</td>\n",
       "      <td>0.531806</td>\n",
       "      <td>-0.101311</td>\n",
       "      <td>0</td>\n",
       "      <td>0</td>\n",
       "      <td>1</td>\n",
       "      <td>0</td>\n",
       "      <td>0</td>\n",
       "      <td>0</td>\n",
       "      <td>0</td>\n",
       "    </tr>\n",
       "  </tbody>\n",
       "</table>\n",
       "</div>"
      ],
      "text/plain": [
       "         F1        F2        F3        F4        F5        F6        F7  \\\n",
       "0 -0.091897  0.297600  0.079145  0.196496  0.261718  1.269960  0.446679   \n",
       "1 -0.091897  0.226939  0.267634  0.024091  0.261718 -0.806282  0.597681   \n",
       "2  0.167323  0.313302  0.168055 -0.383198  0.261718  0.190314  0.824183   \n",
       "3 -0.017834 -0.228430  0.370770  1.293671  0.172340  0.896237  0.182426   \n",
       "4  0.043885  0.407516 -0.120014  0.281743  0.261718 -0.183409  0.106925   \n",
       "\n",
       "         F8        F9       F10  scribe_FerrumEffractarius  scribe_Franciscus  \\\n",
       "0 -0.751707  0.001721  0.998901                          0                  0   \n",
       "1 -0.601277  0.126447 -0.909619                          0                  0   \n",
       "2  0.558250 -0.247731 -0.148073                          0                  0   \n",
       "3  0.416867  1.373706  0.868284                          0                  0   \n",
       "4  0.142896  0.531806 -0.101311                          0                  0   \n",
       "\n",
       "   scribe_Marcus  scribe_Noaelius  scribe_Paithonius  scribe_Philippus  \\\n",
       "0              0                0                  0                 1   \n",
       "1              0                0                  1                 0   \n",
       "2              1                0                  0                 0   \n",
       "3              0                1                  0                 0   \n",
       "4              1                0                  0                 0   \n",
       "\n",
       "   scribe_Ubuntius  \n",
       "0                0  \n",
       "1                0  \n",
       "2                0  \n",
       "3                0  \n",
       "4                0  "
      ]
     },
     "execution_count": 78,
     "metadata": {},
     "output_type": "execute_result"
    }
   ],
   "source": [
    "training_dummy.head()"
   ]
  },
  {
   "cell_type": "code",
   "execution_count": 80,
   "metadata": {},
   "outputs": [
    {
     "name": "stdout",
     "output_type": "stream",
     "text": [
      "<class 'pandas.core.frame.DataFrame'>\n",
      "RangeIndex: 12017 entries, 0 to 12016\n",
      "Data columns (total 17 columns):\n",
      "F1                           12017 non-null float64\n",
      "F2                           12017 non-null float64\n",
      "F3                           12017 non-null float64\n",
      "F4                           12017 non-null float64\n",
      "F5                           12017 non-null float64\n",
      "F6                           12017 non-null float64\n",
      "F7                           12017 non-null float64\n",
      "F8                           12017 non-null float64\n",
      "F9                           12017 non-null float64\n",
      "F10                          12017 non-null float64\n",
      "scribe_FerrumEffractarius    12017 non-null uint8\n",
      "scribe_Franciscus            12017 non-null uint8\n",
      "scribe_Marcus                12017 non-null uint8\n",
      "scribe_Noaelius              12017 non-null uint8\n",
      "scribe_Paithonius            12017 non-null uint8\n",
      "scribe_Philippus             12017 non-null uint8\n",
      "scribe_Ubuntius              12017 non-null uint8\n",
      "dtypes: float64(10), uint8(7)\n",
      "memory usage: 1021.1 KB\n"
     ]
    }
   ],
   "source": [
    "training_dummy.info()"
   ]
  },
  {
   "cell_type": "code",
   "execution_count": 65,
   "metadata": {},
   "outputs": [],
   "source": [
    "from sklearn.linear_model import LinearRegression\n",
    "from sklearn.model_selection import train_test_split\n",
    "from sklearn import datasets, svm, metrics\n",
    "from sklearn.svm import LinearSVC\n",
    "from sklearn.linear_model import LogisticRegression\n",
    "from sklearn.ensemble import RandomForestClassifier"
   ]
  },
  {
   "cell_type": "code",
   "execution_count": 71,
   "metadata": {},
   "outputs": [],
   "source": [
    "\n",
    "X = training[\"scribe\"]\n",
    "y = training[columns]\n"
   ]
  },
  {
   "cell_type": "code",
   "execution_count": 72,
   "metadata": {},
   "outputs": [],
   "source": [
    "avila_model = LinearRegression()"
   ]
  },
  {
   "cell_type": "code",
   "execution_count": 73,
   "metadata": {},
   "outputs": [],
   "source": [
    "X_train, X_test, y_train, y_test = train_test_split(X, y, test_size=0.2)\n"
   ]
  },
  {
   "cell_type": "code",
   "execution_count": 75,
   "metadata": {},
   "outputs": [
    {
     "ename": "ValueError",
     "evalue": "could not convert string to float: 'Philippus'",
     "output_type": "error",
     "traceback": [
      "\u001b[0;31m---------------------------------------------------------------------------\u001b[0m",
      "\u001b[0;31mValueError\u001b[0m                                Traceback (most recent call last)",
      "\u001b[0;32m<ipython-input-75-298ab35632b8>\u001b[0m in \u001b[0;36m<module>\u001b[0;34m\u001b[0m\n\u001b[0;32m----> 1\u001b[0;31m \u001b[0mreg\u001b[0m \u001b[0;34m=\u001b[0m \u001b[0mavila_model\u001b[0m\u001b[0;34m.\u001b[0m\u001b[0mfit\u001b[0m\u001b[0;34m(\u001b[0m\u001b[0mX_train\u001b[0m\u001b[0;34m,\u001b[0m \u001b[0my_train\u001b[0m\u001b[0;34m)\u001b[0m\u001b[0;34m\u001b[0m\u001b[0;34m\u001b[0m\u001b[0m\n\u001b[0m",
      "\u001b[0;32m/usr/local/lib/python3.6/dist-packages/sklearn/linear_model/base.py\u001b[0m in \u001b[0;36mfit\u001b[0;34m(self, X, y, sample_weight)\u001b[0m\n\u001b[1;32m    461\u001b[0m         \u001b[0mn_jobs_\u001b[0m \u001b[0;34m=\u001b[0m \u001b[0mself\u001b[0m\u001b[0;34m.\u001b[0m\u001b[0mn_jobs\u001b[0m\u001b[0;34m\u001b[0m\u001b[0;34m\u001b[0m\u001b[0m\n\u001b[1;32m    462\u001b[0m         X, y = check_X_y(X, y, accept_sparse=['csr', 'csc', 'coo'],\n\u001b[0;32m--> 463\u001b[0;31m                          y_numeric=True, multi_output=True)\n\u001b[0m\u001b[1;32m    464\u001b[0m \u001b[0;34m\u001b[0m\u001b[0m\n\u001b[1;32m    465\u001b[0m         \u001b[0;32mif\u001b[0m \u001b[0msample_weight\u001b[0m \u001b[0;32mis\u001b[0m \u001b[0;32mnot\u001b[0m \u001b[0;32mNone\u001b[0m \u001b[0;32mand\u001b[0m \u001b[0mnp\u001b[0m\u001b[0;34m.\u001b[0m\u001b[0matleast_1d\u001b[0m\u001b[0;34m(\u001b[0m\u001b[0msample_weight\u001b[0m\u001b[0;34m)\u001b[0m\u001b[0;34m.\u001b[0m\u001b[0mndim\u001b[0m \u001b[0;34m>\u001b[0m \u001b[0;36m1\u001b[0m\u001b[0;34m:\u001b[0m\u001b[0;34m\u001b[0m\u001b[0;34m\u001b[0m\u001b[0m\n",
      "\u001b[0;32m/usr/local/lib/python3.6/dist-packages/sklearn/utils/validation.py\u001b[0m in \u001b[0;36mcheck_X_y\u001b[0;34m(X, y, accept_sparse, accept_large_sparse, dtype, order, copy, force_all_finite, ensure_2d, allow_nd, multi_output, ensure_min_samples, ensure_min_features, y_numeric, warn_on_dtype, estimator)\u001b[0m\n\u001b[1;32m    717\u001b[0m                     \u001b[0mensure_min_features\u001b[0m\u001b[0;34m=\u001b[0m\u001b[0mensure_min_features\u001b[0m\u001b[0;34m,\u001b[0m\u001b[0;34m\u001b[0m\u001b[0;34m\u001b[0m\u001b[0m\n\u001b[1;32m    718\u001b[0m                     \u001b[0mwarn_on_dtype\u001b[0m\u001b[0;34m=\u001b[0m\u001b[0mwarn_on_dtype\u001b[0m\u001b[0;34m,\u001b[0m\u001b[0;34m\u001b[0m\u001b[0;34m\u001b[0m\u001b[0m\n\u001b[0;32m--> 719\u001b[0;31m                     estimator=estimator)\n\u001b[0m\u001b[1;32m    720\u001b[0m     \u001b[0;32mif\u001b[0m \u001b[0mmulti_output\u001b[0m\u001b[0;34m:\u001b[0m\u001b[0;34m\u001b[0m\u001b[0;34m\u001b[0m\u001b[0m\n\u001b[1;32m    721\u001b[0m         y = check_array(y, 'csr', force_all_finite=True, ensure_2d=False,\n",
      "\u001b[0;32m/usr/local/lib/python3.6/dist-packages/sklearn/utils/validation.py\u001b[0m in \u001b[0;36mcheck_array\u001b[0;34m(array, accept_sparse, accept_large_sparse, dtype, order, copy, force_all_finite, ensure_2d, allow_nd, ensure_min_samples, ensure_min_features, warn_on_dtype, estimator)\u001b[0m\n\u001b[1;32m    494\u001b[0m             \u001b[0;32mtry\u001b[0m\u001b[0;34m:\u001b[0m\u001b[0;34m\u001b[0m\u001b[0;34m\u001b[0m\u001b[0m\n\u001b[1;32m    495\u001b[0m                 \u001b[0mwarnings\u001b[0m\u001b[0;34m.\u001b[0m\u001b[0msimplefilter\u001b[0m\u001b[0;34m(\u001b[0m\u001b[0;34m'error'\u001b[0m\u001b[0;34m,\u001b[0m \u001b[0mComplexWarning\u001b[0m\u001b[0;34m)\u001b[0m\u001b[0;34m\u001b[0m\u001b[0;34m\u001b[0m\u001b[0m\n\u001b[0;32m--> 496\u001b[0;31m                 \u001b[0marray\u001b[0m \u001b[0;34m=\u001b[0m \u001b[0mnp\u001b[0m\u001b[0;34m.\u001b[0m\u001b[0masarray\u001b[0m\u001b[0;34m(\u001b[0m\u001b[0marray\u001b[0m\u001b[0;34m,\u001b[0m \u001b[0mdtype\u001b[0m\u001b[0;34m=\u001b[0m\u001b[0mdtype\u001b[0m\u001b[0;34m,\u001b[0m \u001b[0morder\u001b[0m\u001b[0;34m=\u001b[0m\u001b[0morder\u001b[0m\u001b[0;34m)\u001b[0m\u001b[0;34m\u001b[0m\u001b[0;34m\u001b[0m\u001b[0m\n\u001b[0m\u001b[1;32m    497\u001b[0m             \u001b[0;32mexcept\u001b[0m \u001b[0mComplexWarning\u001b[0m\u001b[0;34m:\u001b[0m\u001b[0;34m\u001b[0m\u001b[0;34m\u001b[0m\u001b[0m\n\u001b[1;32m    498\u001b[0m                 raise ValueError(\"Complex data not supported\\n\"\n",
      "\u001b[0;32m/usr/lib/python3/dist-packages/numpy/core/numeric.py\u001b[0m in \u001b[0;36masarray\u001b[0;34m(a, dtype, order)\u001b[0m\n\u001b[1;32m    529\u001b[0m \u001b[0;34m\u001b[0m\u001b[0m\n\u001b[1;32m    530\u001b[0m     \"\"\"\n\u001b[0;32m--> 531\u001b[0;31m     \u001b[0;32mreturn\u001b[0m \u001b[0marray\u001b[0m\u001b[0;34m(\u001b[0m\u001b[0ma\u001b[0m\u001b[0;34m,\u001b[0m \u001b[0mdtype\u001b[0m\u001b[0;34m,\u001b[0m \u001b[0mcopy\u001b[0m\u001b[0;34m=\u001b[0m\u001b[0;32mFalse\u001b[0m\u001b[0;34m,\u001b[0m \u001b[0morder\u001b[0m\u001b[0;34m=\u001b[0m\u001b[0morder\u001b[0m\u001b[0;34m)\u001b[0m\u001b[0;34m\u001b[0m\u001b[0;34m\u001b[0m\u001b[0m\n\u001b[0m\u001b[1;32m    532\u001b[0m \u001b[0;34m\u001b[0m\u001b[0m\n\u001b[1;32m    533\u001b[0m \u001b[0;34m\u001b[0m\u001b[0m\n",
      "\u001b[0;32m/usr/local/lib/python3.6/dist-packages/pandas/core/series.py\u001b[0m in \u001b[0;36m__array__\u001b[0;34m(self, dtype)\u001b[0m\n\u001b[1;32m    949\u001b[0m             \u001b[0mwarnings\u001b[0m\u001b[0;34m.\u001b[0m\u001b[0mwarn\u001b[0m\u001b[0;34m(\u001b[0m\u001b[0mmsg\u001b[0m\u001b[0;34m,\u001b[0m \u001b[0mFutureWarning\u001b[0m\u001b[0;34m,\u001b[0m \u001b[0mstacklevel\u001b[0m\u001b[0;34m=\u001b[0m\u001b[0;36m3\u001b[0m\u001b[0;34m)\u001b[0m\u001b[0;34m\u001b[0m\u001b[0;34m\u001b[0m\u001b[0m\n\u001b[1;32m    950\u001b[0m             \u001b[0mdtype\u001b[0m \u001b[0;34m=\u001b[0m \u001b[0;34m\"M8[ns]\"\u001b[0m\u001b[0;34m\u001b[0m\u001b[0;34m\u001b[0m\u001b[0m\n\u001b[0;32m--> 951\u001b[0;31m         \u001b[0;32mreturn\u001b[0m \u001b[0mnp\u001b[0m\u001b[0;34m.\u001b[0m\u001b[0masarray\u001b[0m\u001b[0;34m(\u001b[0m\u001b[0mself\u001b[0m\u001b[0;34m.\u001b[0m\u001b[0marray\u001b[0m\u001b[0;34m,\u001b[0m \u001b[0mdtype\u001b[0m\u001b[0;34m)\u001b[0m\u001b[0;34m\u001b[0m\u001b[0;34m\u001b[0m\u001b[0m\n\u001b[0m\u001b[1;32m    952\u001b[0m \u001b[0;34m\u001b[0m\u001b[0m\n\u001b[1;32m    953\u001b[0m     \u001b[0;31m# ----------------------------------------------------------------------\u001b[0m\u001b[0;34m\u001b[0m\u001b[0;34m\u001b[0m\u001b[0;34m\u001b[0m\u001b[0m\n",
      "\u001b[0;32m/usr/lib/python3/dist-packages/numpy/core/numeric.py\u001b[0m in \u001b[0;36masarray\u001b[0;34m(a, dtype, order)\u001b[0m\n\u001b[1;32m    529\u001b[0m \u001b[0;34m\u001b[0m\u001b[0m\n\u001b[1;32m    530\u001b[0m     \"\"\"\n\u001b[0;32m--> 531\u001b[0;31m     \u001b[0;32mreturn\u001b[0m \u001b[0marray\u001b[0m\u001b[0;34m(\u001b[0m\u001b[0ma\u001b[0m\u001b[0;34m,\u001b[0m \u001b[0mdtype\u001b[0m\u001b[0;34m,\u001b[0m \u001b[0mcopy\u001b[0m\u001b[0;34m=\u001b[0m\u001b[0;32mFalse\u001b[0m\u001b[0;34m,\u001b[0m \u001b[0morder\u001b[0m\u001b[0;34m=\u001b[0m\u001b[0morder\u001b[0m\u001b[0;34m)\u001b[0m\u001b[0;34m\u001b[0m\u001b[0;34m\u001b[0m\u001b[0m\n\u001b[0m\u001b[1;32m    532\u001b[0m \u001b[0;34m\u001b[0m\u001b[0m\n\u001b[1;32m    533\u001b[0m \u001b[0;34m\u001b[0m\u001b[0m\n",
      "\u001b[0;32m/usr/local/lib/python3.6/dist-packages/pandas/core/arrays/numpy_.py\u001b[0m in \u001b[0;36m__array__\u001b[0;34m(self, dtype)\u001b[0m\n\u001b[1;32m    164\u001b[0m \u001b[0;34m\u001b[0m\u001b[0m\n\u001b[1;32m    165\u001b[0m     \u001b[0;32mdef\u001b[0m \u001b[0m__array__\u001b[0m\u001b[0;34m(\u001b[0m\u001b[0mself\u001b[0m\u001b[0;34m,\u001b[0m \u001b[0mdtype\u001b[0m\u001b[0;34m=\u001b[0m\u001b[0;32mNone\u001b[0m\u001b[0;34m)\u001b[0m\u001b[0;34m:\u001b[0m\u001b[0;34m\u001b[0m\u001b[0;34m\u001b[0m\u001b[0m\n\u001b[0;32m--> 166\u001b[0;31m         \u001b[0;32mreturn\u001b[0m \u001b[0mnp\u001b[0m\u001b[0;34m.\u001b[0m\u001b[0masarray\u001b[0m\u001b[0;34m(\u001b[0m\u001b[0mself\u001b[0m\u001b[0;34m.\u001b[0m\u001b[0m_ndarray\u001b[0m\u001b[0;34m,\u001b[0m \u001b[0mdtype\u001b[0m\u001b[0;34m=\u001b[0m\u001b[0mdtype\u001b[0m\u001b[0;34m)\u001b[0m\u001b[0;34m\u001b[0m\u001b[0;34m\u001b[0m\u001b[0m\n\u001b[0m\u001b[1;32m    167\u001b[0m \u001b[0;34m\u001b[0m\u001b[0m\n\u001b[1;32m    168\u001b[0m     \u001b[0m_HANDLED_TYPES\u001b[0m \u001b[0;34m=\u001b[0m \u001b[0;34m(\u001b[0m\u001b[0mnp\u001b[0m\u001b[0;34m.\u001b[0m\u001b[0mndarray\u001b[0m\u001b[0;34m,\u001b[0m \u001b[0mnumbers\u001b[0m\u001b[0;34m.\u001b[0m\u001b[0mNumber\u001b[0m\u001b[0;34m)\u001b[0m\u001b[0;34m\u001b[0m\u001b[0;34m\u001b[0m\u001b[0m\n",
      "\u001b[0;32m/usr/lib/python3/dist-packages/numpy/core/numeric.py\u001b[0m in \u001b[0;36masarray\u001b[0;34m(a, dtype, order)\u001b[0m\n\u001b[1;32m    529\u001b[0m \u001b[0;34m\u001b[0m\u001b[0m\n\u001b[1;32m    530\u001b[0m     \"\"\"\n\u001b[0;32m--> 531\u001b[0;31m     \u001b[0;32mreturn\u001b[0m \u001b[0marray\u001b[0m\u001b[0;34m(\u001b[0m\u001b[0ma\u001b[0m\u001b[0;34m,\u001b[0m \u001b[0mdtype\u001b[0m\u001b[0;34m,\u001b[0m \u001b[0mcopy\u001b[0m\u001b[0;34m=\u001b[0m\u001b[0;32mFalse\u001b[0m\u001b[0;34m,\u001b[0m \u001b[0morder\u001b[0m\u001b[0;34m=\u001b[0m\u001b[0morder\u001b[0m\u001b[0;34m)\u001b[0m\u001b[0;34m\u001b[0m\u001b[0;34m\u001b[0m\u001b[0m\n\u001b[0m\u001b[1;32m    532\u001b[0m \u001b[0;34m\u001b[0m\u001b[0m\n\u001b[1;32m    533\u001b[0m \u001b[0;34m\u001b[0m\u001b[0m\n",
      "\u001b[0;31mValueError\u001b[0m: could not convert string to float: 'Philippus'"
     ]
    }
   ],
   "source": [
    "reg = avila_model.fit(X_train, y_train)\n"
   ]
  },
  {
   "cell_type": "code",
   "execution_count": null,
   "metadata": {},
   "outputs": [],
   "source": []
  }
 ],
 "metadata": {
  "kernelspec": {
   "display_name": "Python 3",
   "language": "python",
   "name": "python3"
  },
  "language_info": {
   "codemirror_mode": {
    "name": "ipython",
    "version": 3
   },
   "file_extension": ".py",
   "mimetype": "text/x-python",
   "name": "python",
   "nbconvert_exporter": "python",
   "pygments_lexer": "ipython3",
   "version": "3.6.8"
  }
 },
 "nbformat": 4,
 "nbformat_minor": 2
}
